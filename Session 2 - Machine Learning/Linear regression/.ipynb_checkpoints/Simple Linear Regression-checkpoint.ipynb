{
 "cells": [
  {
   "cell_type": "markdown",
   "metadata": {},
   "source": [
    "# Linear Regression - Boston housing dataset"
   ]
  },
  {
   "cell_type": "markdown",
   "metadata": {},
   "source": [
    "Begin by importing all necessary modules"
   ]
  },
  {
   "cell_type": "code",
   "execution_count": null,
   "metadata": {
    "collapsed": false
   },
   "outputs": [],
   "source": [
    "import numpy as np\n",
    "import pandas as pd\n",
    "import matplotlib as mpl\n",
    "import matplotlib.pyplot as plt\n",
    "import pylab\n",
    "\n",
    "mpl.style.available\n",
    "mpl.style.use('ggplot') \n",
    "\n",
    "%matplotlib inline "
   ]
  },
  {
   "cell_type": "markdown",
   "metadata": {},
   "source": [
    "The Boston Housing dataset concerns housing values in suburbs of Boston.\n",
    "Each entry is composed by the following features:\n",
    "\n",
    "1. CRIM      per capita crime rate by town\n",
    "2. ZN        proportion of residential land zoned for lots over 25,000 sq.ft.\n",
    "3. INDUS     proportion of non-retail business acres per town\n",
    "4. CHAS      Charles River dummy variable (= 1 if tract bounds river; 0 otherwise)\n",
    "5. NOX       nitric oxides concentration (parts per 10 million)\n",
    "6. RM        average number of rooms per dwelling\n",
    "7. AGE       proportion of owner-occupied units built prior to 1940\n",
    "8. DIS       weighted distances to five Boston employment centres\n",
    "9. RAD       index of accessibility to radial highways\n",
    "10. TAX      full-value property-tax rate per $\\$$10,000\n",
    "11. PTRATIO  pupil-teacher ratio by town\n",
    "12. B        demographic data\n",
    "13. LSTAT    $\\%$ lower status of the population\n",
    "14. MEDV     Median value of owner-occupied homes in $\\$$1000's\n",
    "---------------------------------------------------------------------------------------------"
   ]
  },
  {
   "cell_type": "markdown",
   "metadata": {},
   "source": [
    "    \n",
    "Load Housing data onto a data frame. Use pd.read_csv(...)"
   ]
  },
  {
   "cell_type": "code",
   "execution_count": null,
   "metadata": {
    "collapsed": false
   },
   "outputs": [],
   "source": [
    "df = pd.read_csv('data/housing_data.csv', delim_whitespace=True, header=None)"
   ]
  },
  {
   "cell_type": "markdown",
   "metadata": {},
   "source": [
    "Explore first lines and data format using df.head()"
   ]
  },
  {
   "cell_type": "code",
   "execution_count": null,
   "metadata": {
    "collapsed": false
   },
   "outputs": [],
   "source": [
    "df.head()"
   ]
  },
  {
   "cell_type": "markdown",
   "metadata": {},
   "source": [
    "Let's divide and normalise data"
   ]
  },
  {
   "cell_type": "code",
   "execution_count": null,
   "metadata": {
    "collapsed": false
   },
   "outputs": [],
   "source": [
    "# first 13 variables are features\n",
    "X = df.iloc[:, :13]\n",
    "\n",
    "# last variable is the label\n",
    "Y = df.iloc[:, 13]\n",
    "\n",
    "for j in xrange(13):\n",
    "    X.iloc[:,j]=X.iloc[:,j]-np.mean(X.iloc[:,j]);\n",
    "    X.iloc[:,j]=X.iloc[:,j]/np.std(X.iloc[:,j]);\n",
    "\n",
    "# Normalise the data    \n",
    "Y = Y - np.mean(Y);\n",
    "Y = Y/np.std(Y);"
   ]
  },
  {
   "cell_type": "markdown",
   "metadata": {},
   "source": [
    "Use plt.scatter() to plot one of the features against the labels"
   ]
  },
  {
   "cell_type": "code",
   "execution_count": null,
   "metadata": {
    "collapsed": false
   },
   "outputs": [],
   "source": [
    "plt.scatter(X.iloc[:, 0],Y)"
   ]
  },
  {
   "cell_type": "markdown",
   "metadata": {},
   "source": [
    "Now we want to see what the other variables look like, to select the one that has the most evident linear correlation with the labels"
   ]
  },
  {
   "cell_type": "code",
   "execution_count": null,
   "metadata": {
    "collapsed": false,
    "scrolled": false
   },
   "outputs": [],
   "source": [
    "fig, axes = plt.subplots(nrows=3, ncols=4, figsize=(10, 10))\n",
    "feat = 1\n",
    "for i in xrange(3):\n",
    "    for j in xrange(4):\n",
    "        axes[i, j].scatter(X.iloc[:, feat], Y)\n",
    "        feat+=1\n"
   ]
  },
  {
   "cell_type": "markdown",
   "metadata": {},
   "source": [
    "Let's select one of the variables (where can you see a clear trend?)"
   ]
  },
  {
   "cell_type": "code",
   "execution_count": null,
   "metadata": {
    "collapsed": false
   },
   "outputs": [],
   "source": [
    "var = 0\n",
    "x = X.iloc[:, var]"
   ]
  },
  {
   "cell_type": "markdown",
   "metadata": {},
   "source": [
    "Define Linear Function :\n",
    "$$f = \\theta_0 + \\theta_1 x$$"
   ]
  },
  {
   "cell_type": "code",
   "execution_count": null,
   "metadata": {
    "collapsed": false
   },
   "outputs": [],
   "source": [
    "def LinFunc(x,theta0,theta1):\n",
    "    f = theta0 + theta1*x\n",
    "    return f"
   ]
  },
  {
   "cell_type": "markdown",
   "metadata": {},
   "source": [
    "Choose values for $\\theta_0$ and $\\theta_1$. Use then linfunc to predict labels for X. Save as a new vector called 'Ypredicted'"
   ]
  },
  {
   "cell_type": "code",
   "execution_count": null,
   "metadata": {
    "collapsed": false
   },
   "outputs": [],
   "source": [
    "theta0 = 0\n",
    "theta1 = 0\n",
    "Ypredicted = LinFunc(x,theta0,theta1)"
   ]
  },
  {
   "cell_type": "markdown",
   "metadata": {},
   "source": [
    "Create scatter plot and overlay predictions using plt.plot()"
   ]
  },
  {
   "cell_type": "code",
   "execution_count": null,
   "metadata": {
    "collapsed": false
   },
   "outputs": [],
   "source": [
    "plt.scatter(x,Y)\n",
    "plt.plot(x,Ypredicted, c='r')"
   ]
  },
  {
   "cell_type": "markdown",
   "metadata": {},
   "source": [
    "**Exercise:** Vary $\\theta_0$ and $\\theta_1$ parameters above and replot to get good fit"
   ]
  },
  {
   "cell_type": "code",
   "execution_count": null,
   "metadata": {
    "collapsed": false
   },
   "outputs": [],
   "source": [
    "theta0 = 0\n",
    "theta1 = 0\n",
    "Ypredicted = LinFunc(x,theta0,theta1)\n",
    "plt.scatter(x,Y)\n",
    "plt.plot(x,Ypredicted, c='r')"
   ]
  },
  {
   "cell_type": "markdown",
   "metadata": {},
   "source": [
    "## Cost function"
   ]
  },
  {
   "cell_type": "markdown",
   "metadata": {},
   "source": [
    "Define cost function:\n",
    "$$C = \\frac{1}{2m} \\sum_{i=1}^m (y_{pred}^i - y_{obs}^i)^2$$"
   ]
  },
  {
   "cell_type": "code",
   "execution_count": null,
   "metadata": {
    "collapsed": false
   },
   "outputs": [],
   "source": [
    "def CostFunction(y_obs,y_pred):\n",
    "    cost = np.sum((y_pred - y_obs)**2) / (2.0*len(y_pred))\n",
    "    return cost"
   ]
  },
  {
   "cell_type": "markdown",
   "metadata": {},
   "source": [
    "The following function creates function to plot cost across a range of values"
   ]
  },
  {
   "cell_type": "code",
   "execution_count": null,
   "metadata": {
    "collapsed": false
   },
   "outputs": [],
   "source": [
    "def plotCost(x, y, range0=np.linspace(-500, 500, 50), range1=np.linspace(-500, 500, 50)):\n",
    "    PlotVec = []\n",
    "    for theta_0 in range0:\n",
    "        for theta_1 in range1:\n",
    "            y_predicted_test = LinFunc(x,theta_0,theta_1)\n",
    "            cost = CostFunction(y,y_predicted_test)\n",
    "            PlotVec.append([theta_0,theta_1,cost])\n",
    "    PlotVec = np.array(PlotVec)\n",
    "    plt.tricontour(PlotVec[:,0],PlotVec[:,1],PlotVec[:,2], 80)\n",
    "    print 'min err:', PlotVec[:, 2].min()"
   ]
  },
  {
   "cell_type": "markdown",
   "metadata": {},
   "source": [
    "Use function to plot cost surface"
   ]
  },
  {
   "cell_type": "code",
   "execution_count": null,
   "metadata": {
    "collapsed": false
   },
   "outputs": [],
   "source": [
    "plotCost(x, Y)"
   ]
  },
  {
   "cell_type": "markdown",
   "metadata": {},
   "source": [
    "Use plot to determine likely optimum values for theta_0 and theta_1. Set below then plot as before"
   ]
  },
  {
   "cell_type": "markdown",
   "metadata": {},
   "source": [
    "## Gradient Descent"
   ]
  },
  {
   "cell_type": "markdown",
   "metadata": {},
   "source": [
    "Define two gradient functions:\n",
    "$$g_0 = \\frac{1}{m} \\sum_{i=1}^m (y_{pred}^i - y_{obs}^i)$$\n",
    "$$g_1 = \\frac{1}{m} \\sum_{i=1}^m (y_{pred}^i - y_{obs}^i).x^i$$"
   ]
  },
  {
   "cell_type": "code",
   "execution_count": null,
   "metadata": {
    "collapsed": false
   },
   "outputs": [],
   "source": [
    "def g0(y_obs,y_pred):\n",
    "    g0 = (1/float(len(y_pred))) * np.sum((y_pred - y_obs))\n",
    "    return g0\n",
    "\n",
    "def g1(x,y_obs,y_pred):\n",
    "    g1 = (1/float(len(y_pred))) * np.sum((y_pred - y_obs)*x)\n",
    "    return g1"
   ]
  },
  {
   "cell_type": "markdown",
   "metadata": {},
   "source": [
    "Finish gradient descent algorithm where:\n",
    "$$\\theta_0 := \\theta_0 - \\alpha_0 g_0$$\n",
    "$$\\theta_1 := \\theta_1 - \\alpha_1 g_1$$"
   ]
  },
  {
   "cell_type": "code",
   "execution_count": null,
   "metadata": {
    "collapsed": false
   },
   "outputs": [],
   "source": [
    "def GradDescent(x, y, theta0,theta1,alpha_0,alpha_1):\n",
    "    converged = False\n",
    "    \n",
    "    #theta_record stores all values for plotting\n",
    "    theta_record = []               \n",
    "    theta_record.append([theta0,theta1])\n",
    "    \n",
    "    while not converged:\n",
    "        #Calculate prediction for parameter values\n",
    "        Ypredicted = LinFunc(x, theta0, theta1)\n",
    "        \n",
    "        #Update parameters\n",
    "        theta0 = theta0 - alpha_0 * g0(y,Ypredicted)\n",
    "        theta1 = theta1 - alpha_1 * g1(x,y,Ypredicted)\n",
    "    \n",
    "        #Checking for convergence\n",
    "        old_values = np.array(theta_record[-1])\n",
    "        new_values = np.array([theta0,theta1])\n",
    "        squared_diff = np.sum((old_values-new_values)**2)\n",
    "        \n",
    "        if squared_diff < 10**-7:\n",
    "            converged = True\n",
    "       \n",
    "        theta_record.append([theta0,theta1])\n",
    "        \n",
    "    print \"Minimum found at \", theta_record[-1], \" in \", np.size(theta_record), \" steps\"\n",
    "    return np.array(theta_record)"
   ]
  },
  {
   "cell_type": "markdown",
   "metadata": {},
   "source": [
    "Set initial guess for parameters and look at alpha values, then run Gradient Descent algorithm"
   ]
  },
  {
   "cell_type": "code",
   "execution_count": null,
   "metadata": {
    "collapsed": false
   },
   "outputs": [],
   "source": [
    "theta0_guess = 0\n",
    "theta1_guess = 0\n",
    "alpha_0 = 0\n",
    "alpha_1 = 0\n",
    "\n",
    "\n",
    "theta_record = GradDescent(x, Y, theta0_guess,theta1_guess,alpha_0,alpha_1)"
   ]
  },
  {
   "cell_type": "markdown",
   "metadata": {},
   "source": [
    "Use following to plot cost surface and parameter update history"
   ]
  },
  {
   "cell_type": "code",
   "execution_count": null,
   "metadata": {
    "collapsed": false
   },
   "outputs": [],
   "source": [
    "plotCost(x, Y, range0=np.linspace(-0.9, 0.9, 50), range1=np.linspace(-0.9, 0.9, 50))\n",
    "plt.plot(theta_record[:,0],theta_record[:,1])\n",
    "#print theta_record"
   ]
  },
  {
   "cell_type": "markdown",
   "metadata": {},
   "source": [
    "Plot scatter and predicted function as before"
   ]
  },
  {
   "cell_type": "code",
   "execution_count": null,
   "metadata": {
    "collapsed": false
   },
   "outputs": [],
   "source": [
    "Ypredicted = LinFunc(x, theta_record[-1][0], theta_record[-1][1])\n",
    "plt.scatter(x,Y)\n",
    "plt.plot(x,Ypredicted,c='r')"
   ]
  },
  {
   "cell_type": "markdown",
   "metadata": {},
   "source": [
    "Go back and vary both the initial guesses for the parameters and the alpha values to get a feel for how the gradient descent algorithm works, and how susceptible it is to changes in alpha"
   ]
  }
 ],
 "metadata": {
  "kernelspec": {
   "display_name": "Python 2",
   "language": "python",
   "name": "python2"
  },
  "language_info": {
   "codemirror_mode": {
    "name": "ipython",
    "version": 2
   },
   "file_extension": ".py",
   "mimetype": "text/x-python",
   "name": "python",
   "nbconvert_exporter": "python",
   "pygments_lexer": "ipython2",
   "version": "2.7.9"
  }
 },
 "nbformat": 4,
 "nbformat_minor": 0
}
