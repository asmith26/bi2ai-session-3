{
 "cells": [
  {
   "cell_type": "code",
   "execution_count": 28,
   "metadata": {
    "collapsed": false
   },
   "outputs": [
    {
     "data": {
      "text/html": [
       "<script>requirejs.config({paths: { 'plotly': ['https://cdn.plot.ly/plotly-latest.min']},});if(!window.Plotly) {{require(['plotly'],function(plotly) {window.Plotly=plotly;});}}</script>"
      ],
      "text/plain": [
       "<IPython.core.display.HTML object>"
      ]
     },
     "metadata": {},
     "output_type": "display_data"
    }
   ],
   "source": [
    "# We are going to build a dashboard here. \n",
    "# I can't use the nice words - which is called markdown here\n",
    "# Because the dashboard will produce those so it will show up in the report\n",
    "# The report will only show grapsh and anything written in markdown, code will not show up\n",
    "\n",
    "import pandas as pd\n",
    "import plotly.offline as off\n",
    "import plotly.plotly as py\n",
    "import plotly.graph_objs as go\n",
    "\n",
    "off.init_notebook_mode(connected=True)"
   ]
  },
  {
   "cell_type": "code",
   "execution_count": 29,
   "metadata": {
    "collapsed": false
   },
   "outputs": [],
   "source": [
    "nfl_data = pd.read_csv('cleaned_nfl_data.csv')"
   ]
  },
  {
   "cell_type": "code",
   "execution_count": 30,
   "metadata": {
    "collapsed": true
   },
   "outputs": [],
   "source": [
    "# We are going to do more complex data wrangling now\n",
    "# Also we are going to use functions to create stuff\n",
    "# Don't be put off it looks slightly different but is simple"
   ]
  },
  {
   "cell_type": "code",
   "execution_count": 31,
   "metadata": {
    "collapsed": true
   },
   "outputs": [],
   "source": [
    "# These functions just takes a dataframe and then calculates the wins, and return to you that number\n",
    "# the only trick is that in python True=1 so you can sum the trues\n",
    "\n",
    "def get_away_wins(df):\n",
    "    wins = sum(df['Score_V']>df['Score_H'])\n",
    "    return wins\n",
    "\n",
    "def get_home_wins(df):\n",
    "    wins = sum(df['Score_H']>df['Score_V'])\n",
    "    return wins"
   ]
  },
  {
   "cell_type": "code",
   "execution_count": 32,
   "metadata": {
    "collapsed": true
   },
   "outputs": [],
   "source": [
    "# What is Markdown.\n",
    "\n",
    "# Markdown is how you can write stuff. Anythin you write in Markdown will show up in the report\n",
    "\n",
    "# You have to change the cell type  in the menu 'cell' to 'Markdown'\n",
    "\n",
    "# hashtags give you titles, more hashtags means: ## subtitle, ### sub-sub title etc\n",
    "\n",
    "# double click on the text below to see markdown in action"
   ]
  },
  {
   "cell_type": "markdown",
   "metadata": {},
   "source": [
    "# Title: How big is home team advantage\n",
    "\n",
    "## sub-title\n",
    "\n",
    "### sub-sub title\n",
    "\n",
    "The graph below shows the wins for teams playing at home, and teams playing away from home.\n",
    "\n",
    "Clearly their is a home team advantage"
   ]
  },
  {
   "cell_type": "code",
   "execution_count": 33,
   "metadata": {
    "collapsed": false
   },
   "outputs": [
    {
     "data": {
      "text/html": [
       "<div id=\"11d88734-bbf4-4cee-9a0b-bef034bf66ad\" style=\"height: 500px; width: 500px;\" class=\"plotly-graph-div\"></div><script type=\"text/javascript\">require([\"plotly\"], function(Plotly) { window.PLOTLYENV=window.PLOTLYENV || {};window.PLOTLYENV.BASE_URL=\"https://plot.ly\";Plotly.newPlot(\"11d88734-bbf4-4cee-9a0b-bef034bf66ad\", [{\"y\": [138, 118], \"type\": \"bar\", \"name\": \"Wins\", \"x\": [\"Home Wins\", \"Away Wins\"]}], {\"height\": 500, \"width\": 500, \"title\": \"Home team advantage?\", \"xaxis\": {\"title\": \"Wins\"}}, {\"linkText\": \"Export to plot.ly\", \"showLink\": true})});</script>"
      ],
      "text/plain": [
       "<IPython.core.display.HTML object>"
      ]
     },
     "metadata": {},
     "output_type": "display_data"
    }
   ],
   "source": [
    "trace_1 = go.Bar(\n",
    "            x= ['Home Wins','Away Wins'],\n",
    "            y= [get_home_wins(nfl_data),get_away_wins(nfl_data)],\n",
    "            name = 'Wins'\n",
    ")\n",
    "\n",
    "\n",
    "data = [trace_1]\n",
    "\n",
    "layout = go.Layout(\n",
    "    title = 'Home team advantage?',\n",
    "    xaxis=dict(\n",
    "    title='Wins'),\n",
    "    width = 500,\n",
    "    height= 500,\n",
    "    \n",
    ")\n",
    "\n",
    "\n",
    "fig = go.Figure(data=data, layout=layout)\n",
    "\n",
    "\n",
    "off.iplot(fig)"
   ]
  },
  {
   "cell_type": "code",
   "execution_count": 34,
   "metadata": {
    "collapsed": true
   },
   "outputs": [],
   "source": [
    "def get_stats(team_name):\n",
    "    vistors = nfl_data[(nfl_data['Vis Team']== team_name)]\n",
    "    home = nfl_data[(nfl_data['Home Team']== team_name)]\n",
    "    \n",
    "    away_wins = get_away_wins(vistors)\n",
    "    home_wins = get_home_wins(home)\n",
    "    \n",
    "    return home_wins, away_wins"
   ]
  },
  {
   "cell_type": "code",
   "execution_count": 35,
   "metadata": {
    "collapsed": false
   },
   "outputs": [],
   "source": [
    "team_list = list(set(nfl_data['Vis Team']))\n",
    "team_home = []\n",
    "team_away = []\n",
    "\n",
    "for team_name in team_list:\n",
    "    home_win, away_win = get_stats(team_name)\n",
    "    team_home.append(home_win)\n",
    "    team_away.append(away_win)"
   ]
  },
  {
   "cell_type": "code",
   "execution_count": 36,
   "metadata": {
    "collapsed": true
   },
   "outputs": [],
   "source": [
    "team_df = pd.DataFrame(team_list)\n",
    "team_df.columns = ['Team']\n",
    "\n",
    "team_df['Home wins'] = team_home\n",
    "team_df['Away wins'] = team_away"
   ]
  },
  {
   "cell_type": "code",
   "execution_count": 37,
   "metadata": {
    "collapsed": false
   },
   "outputs": [],
   "source": [
    "team_df['Total Wins'] = team_df['Home wins'] + team_df['Away wins']"
   ]
  },
  {
   "cell_type": "code",
   "execution_count": 38,
   "metadata": {
    "collapsed": true
   },
   "outputs": [],
   "source": [
    "team_df = team_df.sort_values('Total Wins')"
   ]
  },
  {
   "cell_type": "markdown",
   "metadata": {},
   "source": [
    "## How does this vary by team\n",
    "\n",
    "The graph below shows the wins for each team both home and away\n",
    "\n"
   ]
  },
  {
   "cell_type": "code",
   "execution_count": 39,
   "metadata": {
    "collapsed": false
   },
   "outputs": [
    {
     "data": {
      "text/html": [
       "<div id=\"4079a507-c3dd-4f1f-a09c-bfe9d48b851b\" style=\"height: 525px; width: 100%;\" class=\"plotly-graph-div\"></div><script type=\"text/javascript\">require([\"plotly\"], function(Plotly) { window.PLOTLYENV=window.PLOTLYENV || {};window.PLOTLYENV.BASE_URL=\"https://plot.ly\";Plotly.newPlot(\"4079a507-c3dd-4f1f-a09c-bfe9d48b851b\", [{\"y\": [2, 1, 1, 3, 4, 4, 3, 3, 3, 1, 3, 3, 3, 4, 5, 4, 4, 4, 5, 5, 6, 5, 6, 5, 6, 6, 6, 6, 6, 7, 6, 8], \"type\": \"bar\", \"name\": \"Home Wins\", \"x\": [\" Browns\", \" Titans\", \" Cowboys\", \" Chargers\", \" 49ers\", \" Jaguars\", \" Ravens\", \" Buccaneers\", \" Giants\", \" Bears\", \" Dolphins\", \" Eagles\", \" Raiders\", \" Saints\", \" Rams\", \" Lions\", \" Falcons\", \" Colts\", \" Bills\", \" Texans\", \" Redskins\", \" Seahawks\", \" Steelers\", \" Packers\", \" Jets\", \" Vikings\", \" Chiefs\", \" Bengals\", \" Broncos\", \" Patriots\", \" Cardinals\", \" Panthers\"]}, {\"y\": [1, 2, 3, 1, 1, 1, 2, 3, 3, 5, 3, 4, 4, 3, 2, 3, 4, 4, 3, 4, 3, 5, 4, 5, 4, 5, 5, 6, 6, 5, 7, 7], \"type\": \"bar\", \"name\": \"Away Wins\", \"x\": [\" Browns\", \" Titans\", \" Cowboys\", \" Chargers\", \" 49ers\", \" Jaguars\", \" Ravens\", \" Buccaneers\", \" Giants\", \" Bears\", \" Dolphins\", \" Eagles\", \" Raiders\", \" Saints\", \" Rams\", \" Lions\", \" Falcons\", \" Colts\", \" Bills\", \" Texans\", \" Redskins\", \" Seahawks\", \" Steelers\", \" Packers\", \" Jets\", \" Vikings\", \" Chiefs\", \" Bengals\", \" Broncos\", \" Patriots\", \" Cardinals\", \" Panthers\"]}], {\"title\": \"How each team did\", \"barmode\": \"stack\", \"legend\": {\"y\": 1, \"orientation\": \"h\", \"x\": 0.04}}, {\"linkText\": \"Export to plot.ly\", \"showLink\": true})});</script>"
      ],
      "text/plain": [
       "<IPython.core.display.HTML object>"
      ]
     },
     "metadata": {},
     "output_type": "display_data"
    }
   ],
   "source": [
    "trace_A = go.Bar(\n",
    "            x= team_df['Team'],\n",
    "            y= team_df['Away wins'],\n",
    "            name = 'Away Wins'\n",
    ")\n",
    "\n",
    "trace_H = go.Bar(\n",
    "            x= team_df['Team'],\n",
    "            y= team_df['Home wins'],\n",
    "            name = 'Home Wins'\n",
    ")\n",
    "\n",
    "\n",
    "data = [trace_H,trace_A]\n",
    "\n",
    "layout = go.Layout(\n",
    "    #width=1000,\n",
    "    #height=500,\n",
    "    title = 'How each team did', \n",
    "    barmode='stack',\n",
    "    legend=dict(orientation=\"h\",\n",
    "               x=0.04, y=1)\n",
    "    \n",
    ")\n",
    "\n",
    "\n",
    "fig = go.Figure(data=data, layout=layout)\n",
    "\n",
    "\n",
    "off.iplot(fig)"
   ]
  },
  {
   "cell_type": "code",
   "execution_count": 40,
   "metadata": {
    "collapsed": true
   },
   "outputs": [],
   "source": [
    "# Now to publish dashboards just click on the button in the top right, create a name\n",
    "# and check your report under \"reports\" in the left menu"
   ]
  }
 ],
 "metadata": {
  "anaconda-cloud": {},
  "kernelspec": {
   "display_name": "Python [conda env:Python3]",
   "language": "python",
   "name": "conda-env-Python3-py"
  },
  "language_info": {
   "codemirror_mode": {
    "name": "ipython",
    "version": 3
   },
   "file_extension": ".py",
   "mimetype": "text/x-python",
   "name": "python",
   "nbconvert_exporter": "python",
   "pygments_lexer": "ipython3",
   "version": "3.5.2"
  }
 },
 "nbformat": 4,
 "nbformat_minor": 2
}
